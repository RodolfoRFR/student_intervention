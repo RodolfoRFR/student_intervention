{
 "cells": [
  {
   "cell_type": "markdown",
   "metadata": {},
   "source": [
    "# Machine Learning Engineer Nanodegree\n",
    "## Supervised Learning\n",
    "## Project 2: Building a Student Intervention System"
   ]
  },
  {
   "cell_type": "markdown",
   "metadata": {},
   "source": [
    "Welcome to the second project of the Machine Learning Engineer Nanodegree! In this notebook, some template code has already been provided for you, and it will be your job to implement the additional functionality necessary to successfully complete this project. Sections that begin with **'Implementation'** in the header indicate that the following block of code will require additional functionality which you must provide. Instructions will be provided for each section and the specifics of the implementation are marked in the code block with a `'TODO'` statement. Please be sure to read the instructions carefully!\n",
    "\n",
    "In addition to implementing code, there will be questions that you must answer which relate to the project and your implementation. Each section where you will answer a question is preceded by a **'Question X'** header. Carefully read each question and provide thorough answers in the following text boxes that begin with **'Answer:'**. Your project submission will be evaluated based on your answers to each of the questions and the implementation you provide.  \n",
    "\n",
    ">**Note:** Code and Markdown cells can be executed using the **Shift + Enter** keyboard shortcut. In addition, Markdown cells can be edited by typically double-clicking the cell to enter edit mode."
   ]
  },
  {
   "cell_type": "markdown",
   "metadata": {},
   "source": [
    "### Question 1 - Classification vs. Regression\n",
    "*Your goal for this project is to identify students who might need early intervention before they fail to graduate. Which type of supervised learning problem is this, classification or regression? Why?*"
   ]
  },
  {
   "cell_type": "markdown",
   "metadata": {},
   "source": [
    "**Answer:**\n",
    "\n",
    "Based on the discrete (categorical) nature of the output (binary labels) this is a classification problem. We are trying to determine which elements of the dataset (students) have a fail (0) or pass (1) value given a set of features. On the contrary regression problems deal with a continuous output, whether the inputs, or rather features, are categorical or numerical."
   ]
  },
  {
   "cell_type": "markdown",
   "metadata": {},
   "source": [
    "## Exploring the Data\n",
    "Run the code cell below to load necessary Python libraries and load the student data. Note that the last column from this dataset, `'passed'`, will be our target label (whether the student graduated or didn't graduate). All other columns are features about each student."
   ]
  },
  {
   "cell_type": "code",
   "execution_count": 1,
   "metadata": {
    "collapsed": false
   },
   "outputs": [
    {
     "name": "stdout",
     "output_type": "stream",
     "text": [
      "Student data read successfully!\n",
      "    school sex  age address famsize Pstatus  Medu  Fedu      Mjob      Fjob  \\\n",
      "0       GP   F   18       U     GT3       A     4     4   at_home   teacher   \n",
      "1       GP   F   17       U     GT3       T     1     1   at_home     other   \n",
      "2       GP   F   15       U     LE3       T     1     1   at_home     other   \n",
      "3       GP   F   15       U     GT3       T     4     2    health  services   \n",
      "4       GP   F   16       U     GT3       T     3     3     other     other   \n",
      "5       GP   M   16       U     LE3       T     4     3  services     other   \n",
      "6       GP   M   16       U     LE3       T     2     2     other     other   \n",
      "7       GP   F   17       U     GT3       A     4     4     other   teacher   \n",
      "8       GP   M   15       U     LE3       A     3     2  services     other   \n",
      "9       GP   M   15       U     GT3       T     3     4     other     other   \n",
      "10      GP   F   15       U     GT3       T     4     4   teacher    health   \n",
      "11      GP   F   15       U     GT3       T     2     1  services     other   \n",
      "12      GP   M   15       U     LE3       T     4     4    health  services   \n",
      "13      GP   M   15       U     GT3       T     4     3   teacher     other   \n",
      "14      GP   M   15       U     GT3       A     2     2     other     other   \n",
      "15      GP   F   16       U     GT3       T     4     4    health     other   \n",
      "16      GP   F   16       U     GT3       T     4     4  services  services   \n",
      "17      GP   F   16       U     GT3       T     3     3     other     other   \n",
      "18      GP   M   17       U     GT3       T     3     2  services  services   \n",
      "19      GP   M   16       U     LE3       T     4     3    health     other   \n",
      "20      GP   M   15       U     GT3       T     4     3   teacher     other   \n",
      "21      GP   M   15       U     GT3       T     4     4    health    health   \n",
      "22      GP   M   16       U     LE3       T     4     2   teacher     other   \n",
      "23      GP   M   16       U     LE3       T     2     2     other     other   \n",
      "24      GP   F   15       R     GT3       T     2     4  services    health   \n",
      "25      GP   F   16       U     GT3       T     2     2  services  services   \n",
      "26      GP   M   15       U     GT3       T     2     2     other     other   \n",
      "27      GP   M   15       U     GT3       T     4     2    health  services   \n",
      "28      GP   M   16       U     LE3       A     3     4  services     other   \n",
      "29      GP   M   16       U     GT3       T     4     4   teacher   teacher   \n",
      "..     ...  ..  ...     ...     ...     ...   ...   ...       ...       ...   \n",
      "365     MS   M   18       R     GT3       T     1     3   at_home     other   \n",
      "366     MS   M   18       U     LE3       T     4     4   teacher  services   \n",
      "367     MS   F   17       R     GT3       T     1     1     other  services   \n",
      "368     MS   F   18       U     GT3       T     2     3   at_home  services   \n",
      "369     MS   F   18       R     GT3       T     4     4     other   teacher   \n",
      "370     MS   F   19       U     LE3       T     3     2  services  services   \n",
      "371     MS   M   18       R     LE3       T     1     2   at_home  services   \n",
      "372     MS   F   17       U     GT3       T     2     2     other   at_home   \n",
      "373     MS   F   17       R     GT3       T     1     2     other     other   \n",
      "374     MS   F   18       R     LE3       T     4     4     other     other   \n",
      "375     MS   F   18       R     GT3       T     1     1     other     other   \n",
      "376     MS   F   20       U     GT3       T     4     2    health     other   \n",
      "377     MS   F   18       R     LE3       T     4     4   teacher  services   \n",
      "378     MS   F   18       U     GT3       T     3     3     other     other   \n",
      "379     MS   F   17       R     GT3       T     3     1   at_home     other   \n",
      "380     MS   M   18       U     GT3       T     4     4   teacher   teacher   \n",
      "381     MS   M   18       R     GT3       T     2     1     other     other   \n",
      "382     MS   M   17       U     GT3       T     2     3     other  services   \n",
      "383     MS   M   19       R     GT3       T     1     1     other  services   \n",
      "384     MS   M   18       R     GT3       T     4     2     other     other   \n",
      "385     MS   F   18       R     GT3       T     2     2   at_home     other   \n",
      "386     MS   F   18       R     GT3       T     4     4   teacher   at_home   \n",
      "387     MS   F   19       R     GT3       T     2     3  services     other   \n",
      "388     MS   F   18       U     LE3       T     3     1   teacher  services   \n",
      "389     MS   F   18       U     GT3       T     1     1     other     other   \n",
      "390     MS   M   20       U     LE3       A     2     2  services  services   \n",
      "391     MS   M   17       U     LE3       T     3     1  services  services   \n",
      "392     MS   M   21       R     GT3       T     1     1     other     other   \n",
      "393     MS   M   18       R     LE3       T     3     2  services     other   \n",
      "394     MS   M   19       U     LE3       T     1     1     other   at_home   \n",
      "\n",
      "     ...   internet romantic  famrel  freetime  goout Dalc Walc health  \\\n",
      "0    ...         no       no       4         3      4    1    1      3   \n",
      "1    ...        yes       no       5         3      3    1    1      3   \n",
      "2    ...        yes       no       4         3      2    2    3      3   \n",
      "3    ...        yes      yes       3         2      2    1    1      5   \n",
      "4    ...         no       no       4         3      2    1    2      5   \n",
      "5    ...        yes       no       5         4      2    1    2      5   \n",
      "6    ...        yes       no       4         4      4    1    1      3   \n",
      "7    ...         no       no       4         1      4    1    1      1   \n",
      "8    ...        yes       no       4         2      2    1    1      1   \n",
      "9    ...        yes       no       5         5      1    1    1      5   \n",
      "10   ...        yes       no       3         3      3    1    2      2   \n",
      "11   ...        yes       no       5         2      2    1    1      4   \n",
      "12   ...        yes       no       4         3      3    1    3      5   \n",
      "13   ...        yes       no       5         4      3    1    2      3   \n",
      "14   ...        yes      yes       4         5      2    1    1      3   \n",
      "15   ...        yes       no       4         4      4    1    2      2   \n",
      "16   ...        yes       no       3         2      3    1    2      2   \n",
      "17   ...         no       no       5         3      2    1    1      4   \n",
      "18   ...        yes       no       5         5      5    2    4      5   \n",
      "19   ...        yes       no       3         1      3    1    3      5   \n",
      "20   ...        yes       no       4         4      1    1    1      1   \n",
      "21   ...        yes       no       5         4      2    1    1      5   \n",
      "22   ...        yes       no       4         5      1    1    3      5   \n",
      "23   ...        yes       no       5         4      4    2    4      5   \n",
      "24   ...        yes       no       4         3      2    1    1      5   \n",
      "25   ...        yes       no       1         2      2    1    3      5   \n",
      "26   ...        yes       no       4         2      2    1    2      5   \n",
      "27   ...        yes       no       2         2      4    2    4      1   \n",
      "28   ...        yes       no       5         3      3    1    1      5   \n",
      "29   ...        yes      yes       4         4      5    5    5      5   \n",
      "..   ...        ...      ...     ...       ...    ...  ...  ...    ...   \n",
      "365  ...         no       no       3         3      4    2    4      3   \n",
      "366  ...        yes      yes       4         2      2    2    2      5   \n",
      "367  ...        yes      yes       5         2      1    1    2      1   \n",
      "368  ...        yes      yes       5         2      3    1    2      4   \n",
      "369  ...        yes      yes       3         2      2    4    2      5   \n",
      "370  ...         no      yes       3         2      2    1    1      3   \n",
      "371  ...        yes      yes       4         3      3    2    3      3   \n",
      "372  ...         no      yes       3         4      3    1    1      3   \n",
      "373  ...        yes       no       3         5      5    1    3      1   \n",
      "374  ...        yes       no       5         4      4    1    1      1   \n",
      "375  ...        yes       no       4         3      2    1    2      4   \n",
      "376  ...        yes      yes       5         4      3    1    1      3   \n",
      "377  ...        yes       no       5         4      3    3    4      2   \n",
      "378  ...        yes      yes       4         1      3    1    2      1   \n",
      "379  ...        yes       no       4         5      4    2    3      1   \n",
      "380  ...        yes       no       3         2      4    1    4      2   \n",
      "381  ...        yes      yes       4         4      3    1    3      5   \n",
      "382  ...        yes       no       4         4      3    1    1      3   \n",
      "383  ...         no       no       4         3      2    1    3      5   \n",
      "384  ...         no       no       5         4      3    4    3      3   \n",
      "385  ...         no       no       5         3      3    1    3      4   \n",
      "386  ...        yes      yes       4         4      3    2    2      5   \n",
      "387  ...        yes       no       5         4      2    1    2      5   \n",
      "388  ...        yes       no       4         3      4    1    1      1   \n",
      "389  ...         no       no       1         1      1    1    1      5   \n",
      "390  ...         no       no       5         5      4    4    5      4   \n",
      "391  ...        yes       no       2         4      5    3    4      2   \n",
      "392  ...         no       no       5         5      3    3    3      3   \n",
      "393  ...        yes       no       4         4      1    3    4      5   \n",
      "394  ...        yes       no       3         2      3    3    3      5   \n",
      "\n",
      "    absences passed  \n",
      "0          6     no  \n",
      "1          4     no  \n",
      "2         10    yes  \n",
      "3          2    yes  \n",
      "4          4    yes  \n",
      "5         10    yes  \n",
      "6          0    yes  \n",
      "7          6     no  \n",
      "8          0    yes  \n",
      "9          0    yes  \n",
      "10         0     no  \n",
      "11         4    yes  \n",
      "12         2    yes  \n",
      "13         2    yes  \n",
      "14         0    yes  \n",
      "15         4    yes  \n",
      "16         6    yes  \n",
      "17         4    yes  \n",
      "18        16     no  \n",
      "19         4    yes  \n",
      "20         0    yes  \n",
      "21         0    yes  \n",
      "22         2    yes  \n",
      "23         0    yes  \n",
      "24         2     no  \n",
      "25        14     no  \n",
      "26         2    yes  \n",
      "27         4    yes  \n",
      "28         4    yes  \n",
      "29        16    yes  \n",
      "..       ...    ...  \n",
      "365        4    yes  \n",
      "366        0    yes  \n",
      "367        0     no  \n",
      "368        0    yes  \n",
      "369       10    yes  \n",
      "370        4     no  \n",
      "371        3    yes  \n",
      "372        8    yes  \n",
      "373       14     no  \n",
      "374        0    yes  \n",
      "375        2    yes  \n",
      "376        4    yes  \n",
      "377        4    yes  \n",
      "378        0    yes  \n",
      "379       17    yes  \n",
      "380        4    yes  \n",
      "381        5     no  \n",
      "382        2    yes  \n",
      "383        0     no  \n",
      "384       14     no  \n",
      "385        2    yes  \n",
      "386        7     no  \n",
      "387        0     no  \n",
      "388        0     no  \n",
      "389        0     no  \n",
      "390       11     no  \n",
      "391        3    yes  \n",
      "392        3     no  \n",
      "393        0    yes  \n",
      "394        5     no  \n",
      "\n",
      "[395 rows x 31 columns]\n"
     ]
    }
   ],
   "source": [
    "# Import libraries\n",
    "%matplotlib inline\n",
    "\n",
    "import matplotlib\n",
    "import numpy as np\n",
    "import pandas as pd\n",
    "from time import time\n",
    "from sklearn.metrics import f1_score\n",
    "from sklearn.preprocessing import MinMaxScaler\n",
    "\n",
    "\n",
    "# Read student data\n",
    "student_data = pd.read_csv(\"student-data.csv\")\n",
    "print \"Student data read successfully!\"\n",
    "print student_data"
   ]
  },
  {
   "cell_type": "markdown",
   "metadata": {},
   "source": [
    "### Implementation: Data Exploration\n",
    "Let's begin by investigating the dataset to determine how many students we have information on, and learn about the graduation rate among these students. In the code cell below, you will need to compute the following:\n",
    "- The total number of students, `n_students`.\n",
    "- The total number of features for each student, `n_features`.\n",
    "- The number of those students who passed, `n_passed`.\n",
    "- The number of those students who failed, `n_failed`.\n",
    "- The graduation rate of the class, `grad_rate`, in percent (%).\n"
   ]
  },
  {
   "cell_type": "code",
   "execution_count": 2,
   "metadata": {
    "collapsed": false,
    "scrolled": true
   },
   "outputs": [
    {
     "name": "stdout",
     "output_type": "stream",
     "text": [
      "Total number of students: 395\n",
      "Number of features: 31\n",
      "Number of students who passed: 265\n",
      "Number of students who failed: 130\n",
      "Graduation rate of the class: 67.00%\n"
     ]
    }
   ],
   "source": [
    "# TODO: Calculate number of students\n",
    "n_students = len(student_data.index)\n",
    "\n",
    "# TODO: Calculate number of features\n",
    "n_features = len(student_data.columns)\n",
    "\n",
    "# TODO: Calculate passing students\n",
    "n_passed = len(student_data.loc[student_data['passed'] == 'yes'].index)\n",
    "\n",
    "# TODO: Calculate failing students\n",
    "n_failed = len(student_data.loc[student_data['passed'] == 'no'].index)\n",
    "\n",
    "# TODO: Calculate graduation rate\n",
    "grad_rate = n_passed*100/(n_passed+n_failed)\n",
    "\n",
    "# Print the results\n",
    "print \"Total number of students: {}\".format(n_students)\n",
    "print \"Number of features: {}\".format(n_features)\n",
    "print \"Number of students who passed: {}\".format(n_passed)\n",
    "print \"Number of students who failed: {}\".format(n_failed)\n",
    "print \"Graduation rate of the class: {:.2f}%\".format(grad_rate)"
   ]
  },
  {
   "cell_type": "markdown",
   "metadata": {},
   "source": [
    "In this binary classifcation the output populations are fairly balanced (265 positives versus 130 negatives) which minimizes the possiblity of overfitting for one or other result, usually caused by having the population skewed to either positive or negative results.  "
   ]
  },
  {
   "cell_type": "markdown",
   "metadata": {},
   "source": [
    "## Preparing the Data\n",
    "In this section, we will prepare the data for modeling, training and testing.\n",
    "\n",
    "### Identify feature and target columns\n",
    "It is often the case that the data you obtain contains non-numeric features. This can be a problem, as most machine learning algorithms expect numeric data to perform computations with.\n",
    "\n",
    "Run the code cell below to separate the student data into feature and target columns to see if any features are non-numeric."
   ]
  },
  {
   "cell_type": "code",
   "execution_count": 3,
   "metadata": {
    "collapsed": false
   },
   "outputs": [
    {
     "name": "stdout",
     "output_type": "stream",
     "text": [
      "Feature columns:\n",
      "['school', 'sex', 'age', 'address', 'famsize', 'Pstatus', 'Medu', 'Fedu', 'Mjob', 'Fjob', 'reason', 'guardian', 'traveltime', 'studytime', 'failures', 'schoolsup', 'famsup', 'paid', 'activities', 'nursery', 'higher', 'internet', 'romantic', 'famrel', 'freetime', 'goout', 'Dalc', 'Walc', 'health', 'absences']\n",
      "\n",
      "Target column: passed\n",
      "\n",
      "Feature values:\n",
      "  school sex  age address famsize Pstatus  Medu  Fedu     Mjob      Fjob  \\\n",
      "0     GP   F   18       U     GT3       A     4     4  at_home   teacher   \n",
      "1     GP   F   17       U     GT3       T     1     1  at_home     other   \n",
      "2     GP   F   15       U     LE3       T     1     1  at_home     other   \n",
      "3     GP   F   15       U     GT3       T     4     2   health  services   \n",
      "4     GP   F   16       U     GT3       T     3     3    other     other   \n",
      "\n",
      "    ...    higher internet  romantic  famrel  freetime goout Dalc Walc health  \\\n",
      "0   ...       yes       no        no       4         3     4    1    1      3   \n",
      "1   ...       yes      yes        no       5         3     3    1    1      3   \n",
      "2   ...       yes      yes        no       4         3     2    2    3      3   \n",
      "3   ...       yes      yes       yes       3         2     2    1    1      5   \n",
      "4   ...       yes       no        no       4         3     2    1    2      5   \n",
      "\n",
      "  absences  \n",
      "0        6  \n",
      "1        4  \n",
      "2       10  \n",
      "3        2  \n",
      "4        4  \n",
      "\n",
      "[5 rows x 30 columns]\n"
     ]
    }
   ],
   "source": [
    "# Extract feature columns\n",
    "feature_cols = list(student_data.columns[:-1])\n",
    "\n",
    "# Extract target column 'passed'\n",
    "target_col = student_data.columns[-1] \n",
    "\n",
    "# Show the list of columns\n",
    "print \"Feature columns:\\n{}\".format(feature_cols)\n",
    "print \"\\nTarget column: {}\".format(target_col)\n",
    "\n",
    "# Separate the data into feature data and target data (X_all and y_all, respectively)\n",
    "X_all = student_data[feature_cols]\n",
    "y_all = student_data[target_col]\n",
    "\n",
    "# Show the feature information by printing the first five rows\n",
    "print \"\\nFeature values:\"\n",
    "print X_all.head()"
   ]
  },
  {
   "cell_type": "markdown",
   "metadata": {},
   "source": [
    "### Preprocess Feature Columns\n",
    "\n",
    "As you can see, there are several non-numeric columns that need to be converted! Many of them are simply `yes`/`no`, e.g. `internet`. These can be reasonably converted into `1`/`0` (binary) values.\n",
    "\n",
    "Other columns, like `Mjob` and `Fjob`, have more than two values, and are known as _categorical variables_. The recommended way to handle such a column is to create as many columns as possible values (e.g. `Fjob_teacher`, `Fjob_other`, `Fjob_services`, etc.), and assign a `1` to one of them and `0` to all others.\n",
    "\n",
    "These generated columns are sometimes called _dummy variables_, and we will use the [`pandas.get_dummies()`](http://pandas.pydata.org/pandas-docs/stable/generated/pandas.get_dummies.html?highlight=get_dummies#pandas.get_dummies) function to perform this transformation. Run the code cell below to perform the preprocessing routine discussed in this section."
   ]
  },
  {
   "cell_type": "code",
   "execution_count": 4,
   "metadata": {
    "collapsed": false,
    "scrolled": true
   },
   "outputs": [
    {
     "name": "stdout",
     "output_type": "stream",
     "text": [
      "Processed feature columns (48 total features):\n",
      "['school_GP', 'school_MS', 'sex_F', 'sex_M', 'age', 'address_R', 'address_U', 'famsize_GT3', 'famsize_LE3', 'Pstatus_A', 'Pstatus_T', 'Medu', 'Fedu', 'Mjob_at_home', 'Mjob_health', 'Mjob_other', 'Mjob_services', 'Mjob_teacher', 'Fjob_at_home', 'Fjob_health', 'Fjob_other', 'Fjob_services', 'Fjob_teacher', 'reason_course', 'reason_home', 'reason_other', 'reason_reputation', 'guardian_father', 'guardian_mother', 'guardian_other', 'traveltime', 'studytime', 'failures', 'schoolsup', 'famsup', 'paid', 'activities', 'nursery', 'higher', 'internet', 'romantic', 'famrel', 'freetime', 'goout', 'Dalc', 'Walc', 'health', 'absences']\n"
     ]
    }
   ],
   "source": [
    "def preprocess_features(X):\n",
    "    ''' Preprocesses the student data and converts non-numeric binary variables into\n",
    "        binary (0/1) variables. Converts categorical variables into dummy variables. '''\n",
    "    \n",
    "    # Initialize new output DataFrame\n",
    "    output = pd.DataFrame(index = X.index)\n",
    "\n",
    "    # Investigate each feature column for the data\n",
    "    for col, col_data in X.iteritems():\n",
    "        \n",
    "        # If data type is non-numeric, replace all yes/no values with 1/0\n",
    "        if col_data.dtype == object:\n",
    "            col_data = col_data.replace(['yes', 'no'], [1, 0])\n",
    "\n",
    "        # If data type is categorical, convert to dummy variables\n",
    "        if col_data.dtype == object:\n",
    "            # Example: 'school' => 'school_GP' and 'school_MS'\n",
    "            col_data = pd.get_dummies(col_data, prefix = col)  \n",
    "        \n",
    "        # Collect the revised columns\n",
    "        output = output.join(col_data)\n",
    "    \n",
    "    return output\n",
    "\n",
    "X_all_pre = preprocess_features(X_all)\n",
    "scaler1=MinMaxScaler()\n",
    "X_all=pd.DataFrame(scaler1.fit_transform(X_all_pre), columns=X_all_pre.columns, index=X_all_pre.index)\n",
    "print \"Processed feature columns ({} total features):\\n{}\".format(len(X_all.columns), list(X_all.columns))"
   ]
  },
  {
   "cell_type": "markdown",
   "metadata": {},
   "source": [
    "### Implementation: Training and Testing Data Split\n",
    "So far, we have converted all _categorical_ features into numeric values. For the next step, we split the data (both features and corresponding labels) into training and test sets. In the following code cell below, you will need to implement the following:\n",
    "- Randomly shuffle and split the data (`X_all`, `y_all`) into training and testing subsets.\n",
    "  - Use 300 training points (approximately 75%) and 95 testing points (approximately 25%).\n",
    "  - Set a `random_state` for the function(s) you use, if provided.\n",
    "  - Store the results in `X_train`, `X_test`, `y_train`, and `y_test`."
   ]
  },
  {
   "cell_type": "code",
   "execution_count": 5,
   "metadata": {
    "collapsed": false
   },
   "outputs": [
    {
     "name": "stdout",
     "output_type": "stream",
     "text": [
      "Training set has 300 samples.\n",
      "Testing set has 95 samples.\n"
     ]
    }
   ],
   "source": [
    "# TODO: Import any additional functionality you may need here\n",
    "#from sklearn import cross_validation\n",
    "from sklearn.utils import shuffle\n",
    "from sklearn.cross_validation import train_test_split\n",
    "# TODO: Set the number of training points\n",
    "num_train = 300\n",
    "rstate=333\n",
    "\n",
    "# Set the number of testing points\n",
    "num_test = X_all.shape[0] - num_train\n",
    "\n",
    "# TODO: Shuffle and split the dataset into the number of training and testing points above\n",
    "\n",
    "#X_all_shuffled, y_all_shuffled=shuffle(X_all,y_all, random_state=rstate)\n",
    "X_all_shuffled, y_all_shuffled=X_all,y_all\n",
    "\n",
    "#a,b,c,d=cross_validation.cross_val_score(clf, iris.data, iris.target, cv=cv)\n",
    "\n",
    "a,b,c,d=train_test_split(X_all_shuffled, y_all_shuffled,test_size=num_test,random_state=rstate)\n",
    "\n",
    "X_train = a\n",
    "X_test = b\n",
    "y_train = c\n",
    "y_test = d\n",
    "\n",
    "# Show the results of the split\n",
    "print \"Training set has {} samples.\".format(X_train.shape[0])\n",
    "print \"Testing set has {} samples.\".format(X_test.shape[0])"
   ]
  },
  {
   "cell_type": "markdown",
   "metadata": {},
   "source": [
    "## Training and Evaluating Models\n",
    "In this section, you will choose 3 supervised learning models that are appropriate for this problem and available in `scikit-learn`. You will first discuss the reasoning behind choosing these three models by considering what you know about the data and each model's strengths and weaknesses. You will then fit the model to varying sizes of training data (100 data points, 200 data points, and 300 data points) and measure the F<sub>1</sub> score. You will need to produce three tables (one for each model) that shows the training set size, training time, prediction time, F<sub>1</sub> score on the training set, and F<sub>1</sub> score on the testing set.\n",
    "\n",
    "**The following supervised learning models are currently available in** [`scikit-learn`](http://scikit-learn.org/stable/supervised_learning.html) **that you may choose from:**\n",
    "- Gaussian Naive Bayes (GaussianNB)\n",
    "- Decision Trees\n",
    "- Ensemble Methods (Bagging, AdaBoost, Random Forest, Gradient Boosting)\n",
    "- K-Nearest Neighbors (KNeighbors)\n",
    "- Stochastic Gradient Descent (SGDC)\n",
    "- Support Vector Machines (SVM)\n",
    "- Logistic Regression"
   ]
  },
  {
   "cell_type": "markdown",
   "metadata": {},
   "source": [
    "### Question 2 - Model Application\n",
    "*List three supervised learning models that are appropriate for this problem. For each model chosen*\n",
    "- Describe one real-world application in industry where the model can be applied. *(You may need to do a small bit of research for this — give references!)* \n",
    "- What are the strengths of the model; when does it perform well? \n",
    "- What are the weaknesses of the model; when does it perform poorly?\n",
    "- What makes this model a good candidate for the problem, given what you know about the data?"
   ]
  },
  {
   "cell_type": "markdown",
   "metadata": {},
   "source": [
    "__OBSERVATION__: Five models have been chosen (instead of three) because of the importance of comparing their characteristics on the dataset. In addition, all 7 proposed models have been analyzed to provide a more complete picture. The selected models are indicated by a label next to their names."
   ]
  },
  {
   "cell_type": "markdown",
   "metadata": {},
   "source": [
    "**Answer: **\n",
    "\n",
    "__(Selected) Gaussian Naive Bayes__: GNB is the implementation of the Bayes classifier using the Bayes' theorem and the 'naive' assumption that the proability of the features, given the result, are independent from each other.\n",
    "\n",
    "_Real World Application_: Naive Bayes Classifier is being used for efficient inference in large models for research and medical cases, ['5 Algorithms That Are Transforming The Healthcare Industry'](http://www.pcquest.com/5-algorithms-that-are-transforming-the-healthcare-industry/) . \n",
    "\n",
    "_Advantages_: This classifier has high bias and low variance duea to its simplicity, making it ideal for fast calculations. GNB performs surprisingly well with a relatively small training data set and has a simple interpretation.\n",
    "\n",
    "_Weaknesses_: Due to its simplicity GNB tends to perform badly as data size increases, being impervious to the emerging complexities of the dataset. \n",
    "\n",
    "_Present Problem_: With a relatively high number of features (multidimensional problem), GNB should perform relatively well in computational time and it is known for having great accuracy with binary classification despite its simplicity.\n",
    "\n",
    "__K Nearest Neighbors__:The KNN technique is a nonparametric method that relies on calculating the average output (or most likely) of all vectors near the features requiring prediction, in the feature space.\n",
    "\n",
    "_Real World Application_: KNN algorithms are used to build costumer personas. A customer persona is a thorough understanding of who you are selling to so you can deliver the proper digital experience, [A Guide to Understanding Customer Personas](https://www.cmscritic.com/understanding-customer-personas/).\n",
    "\n",
    "_Advantages_: Highly flexible since no model is required.\n",
    "\n",
    "_Weaknesses_: KNN requires large amount of data for great accuracy and presents high variance in feature regions with low data density. In addition, KNN performs poorly with linear relationships.\n",
    "\n",
    "_Present Problem_: Due to its flexibility KNN has the potential for good performance. However, KNN also shows long prediction time and proclivity to high variance, both areas in which some of the other models have better performance.\n",
    "\n",
    "__ (Selected) Logistic Regression__: Despite its name LR is a model used for binary classification. Logistic Regression utilizes a probablity model based on an exponential function monotonically joining 0 and 1.\n",
    "\n",
    "_Real World Application_: For recommendations, Youtube first uses a neural network to reduce the number of videos (down to a few hundreds) and then put them through a logistic regression model to score each video and ranking them. [How YouTube's Recommendation Algorithm Works](https://www.infoq.com/news/2016/09/How-YouTube-Recommendation-Works)\n",
    "\n",
    "_Advantages_: Ease of interpretation. Less prone to overfitting.\n",
    "\n",
    "_Weaknesses_: Low flexibility compared to other models. Better suited for single decision boundaries.\n",
    "\n",
    "_Present Problem_: In addition to linear behavior LR can learn nonlinearities, to an extent. LR is also computationaly fast and does not overfit easily.\n",
    "\n",
    "__(Selected) Stochastic Gradient Descent__:  Updates a set of parameters minimizing the error function. Is usually utilized to improve linear regressions by saving processing resources and assuring convergence.\n",
    "\n",
    "_Real World Application_: Dealerships obtain marketing insights, sales benefits, and customer-retention gains using big data and analytics that use Stochastic Gradient Descent,[Big Data Keeps Your Dealership a Step Ahead of the Customer](http://www.dealermarketing.com/big-data-keeps-your-dealership-a-step-ahead-of-the-customer/)\n",
    "\n",
    "_Advantages_: Efficient and flexible, since it has a large number of tunning knobs.\n",
    "\n",
    "_Weaknesses_: Large number of hyperparameters need to be tuned. Convergence is sensitivite to high dimensional features, potentially increasing processing times and resulting in high variance.\n",
    "\n",
    "_Present Problem_: For this problem, the number of features is relatively large which may negatively impact the learning rate of SGD, as well as its convergence, decreasing its performance.\n",
    "\n",
    "__ (Selected) Decision Trees__: DT uses a tree-like decision model to produce the map features to conclusions about the target value.\n",
    "\n",
    "_Real World Application_:What we want to do is extract as much information as we can from the vast number of failed reactions that usually don’t get reported, [Lab Failures Turn to Gold in Search for New Materials](https://www.scientificamerican.com/article/lab-failures-turn-to-gold-in-search-for-new-materials/)\n",
    "\n",
    "_Advantages_: Simple implementation and interpretation with boolean logic. Decision Trees perform well when the boundary decision is non linear. Processing time increases loghatihmicalyly with data size.\n",
    "\n",
    "_Weaknesses_: DT performes poorly when boundaries are linear, because it does not naturally take advantage of the linearity of the data feature space. Prediction accuracy is not high compared to other techniques and it tends to overfit.\n",
    "\n",
    "_Present Problem_: For this problem, DT's flexibility and short prediction time could prove advantageous. DT also has the danger of overfitting, but it could take advantage of the nonlinearities from the dataset and ourperform the other models.\n",
    "\n",
    "__Random Forest__: RF improves the accuracy and prevents overfitting in decision trees.\n",
    "\n",
    "_Real World Application_: Random Forest is utilized to identify problem officers BEFORE an incident takes place, [Big Data And Bad Cops: Can An Algorithm Predict Police Misconduct?](http://wcqs.org/post/big-data-and-bad-cops-can-algorithm-predict-police-misconduct-part-1#stream/0)\n",
    "\n",
    "_Advantages_: Same advantages as decision trees plus improved accuracy.\n",
    "\n",
    "_Weaknesses_: Same weakneses of decision trees. In addition the added complexity means longer processing time.\n",
    "\n",
    "_Present Problem_: For this problem RF could improve accuracy of DT results but at a cost of requiring more resources and taking a longer time to calculate.\n",
    "\n",
    "__(Selected) SVM (SVC)__: SVM is the generalization of the maximal margin classifier and it can use linear and non-linear classifiers.\n",
    "\n",
    "_Real World Application_:Netflix uses a new metric by combining multiple elementary quality metrics and fusing them together with a machine-learning algorithm, specifically a Support Vector Machine (SVM) regressor, [Netflix introduces new quality metric](http://www.streamingmedia.com/Articles/News/Online-Video-News/Netflix-Introduces-New-Quality-Metric-111564.aspx)\n",
    "\n",
    "_Advantages_: Well suited for high dimensional spaces and allows for different kernels.\n",
    "\n",
    "_Disadvantages_: Sensitive to features/samples ratio and probability estimates are calculated indirectly with extra computational resources.\n",
    "\n",
    "_Present Problem_: SVC is very well suited for this dataset, with its high dimensionality capabilities and flexibility. \n"
   ]
  },
  {
   "cell_type": "markdown",
   "metadata": {},
   "source": [
    "### Setup\n",
    "Run the code cell below to initialize three helper functions which you can use for training and testing the three supervised learning models you've chosen above. The functions are as follows:\n",
    "- `train_classifier` - takes as input a classifier and training data and fits the classifier to the data.\n",
    "- `predict_labels` - takes as input a fit classifier, features, and a target labeling and makes predictions using the F<sub>1</sub> score.\n",
    "- `train_predict` - takes as input a classifier, and the training and testing data, and performs `train_clasifier` and `predict_labels`.\n",
    " - This function will report the F<sub>1</sub> score for both the training and testing data separately."
   ]
  },
  {
   "cell_type": "code",
   "execution_count": 6,
   "metadata": {
    "collapsed": false
   },
   "outputs": [],
   "source": [
    "def train_classifier(clf, X_train, y_train):\n",
    "    ''' Fits a classifier to the training data. '''\n",
    "    \n",
    "    # Start the clock, train the classifier, then stop the clock\n",
    "    start = time()\n",
    "    clf.fit(X_train, y_train)\n",
    "    end = time()\n",
    "    \n",
    "    traintime=end-start\n",
    "    \n",
    "    # Print the results\n",
    "    print \"Trained model in {:.4f} seconds\".format(traintime)\n",
    "    \n",
    "    return traintime\n",
    "\n",
    "    \n",
    "def predict_labels(clf, features, target):\n",
    "    ''' Makes predictions using a fit classifier based on F1 score. '''\n",
    "    \n",
    "    # Start the clock, make predictions, then stop the clock\n",
    "    start = time()\n",
    "    y_pred = clf.predict(features)\n",
    "    end = time()\n",
    "    \n",
    "    # Print and return results\n",
    "    \n",
    "    calctime=end-start\n",
    "    \n",
    "    print \"Made predictions in {:.4f} seconds.\".format(calctime)\n",
    "    return f1_score(target.values, y_pred, pos_label='yes'),calctime\n",
    "\n",
    "\n",
    "def train_predict(clf, X_train, y_train, X_test, y_test):\n",
    "    ''' Train and predict using a classifer based on F1 score. '''\n",
    "    \n",
    "    # Indicate the classifier and the training set size\n",
    "    print \"Training a {} using a training set size of {}. . .\".format(clf.__class__.__name__, len(X_train))\n",
    "    \n",
    "    # Train the classifier\n",
    "    train_time=train_classifier(clf, X_train, y_train)\n",
    "    \n",
    "    \n",
    "    \n",
    "    # Print the results of prediction for both training and testing\n",
    "    predict_train, time_predict_train=predict_labels(clf, X_train, y_train)\n",
    "    predict_test, time_predict_test=predict_labels(clf, X_test, y_test)\n",
    "    \n",
    "    results=[train_time, time_predict_test, predict_train, predict_test]\n",
    "    \n",
    "    \n",
    "    print \"F1 score for training set: {:.4f}.\".format(predict_train)\n",
    "    print \"F1 score for test set: {:.4f}.\".format(predict_test)\n",
    "    \n",
    "    return results"
   ]
  },
  {
   "cell_type": "markdown",
   "metadata": {},
   "source": [
    "### Implementation: Model Performance Metrics\n",
    "With the predefined functions above, you will now import the three supervised learning models of your choice and run the `train_predict` function for each one. Remember that you will need to train and predict on each classifier for three different training set sizes: 100, 200, and 300. Hence, you should expect to have 9 different outputs below — 3 for each model using the varying training set sizes. In the following code cell, you will need to implement the following:\n",
    "- Import the three supervised learning models you've discussed in the previous section.\n",
    "- Initialize the three models and store them in `clf_A`, `clf_B`, and `clf_C`.\n",
    " - Use a `random_state` for each model you use, if provided.\n",
    " - **Note:** Use the default settings for each model — you will tune one specific model in a later section.\n",
    "- Create the different training set sizes to be used to train each model.\n",
    " - *Do not reshuffle and resplit the data! The new training points should be drawn from `X_train` and `y_train`.*\n",
    "- Fit each model with each training set size and make predictions on the test set (9 in total).  \n",
    "**Note:** Three tables are provided after the following code cell which can be used to store your results."
   ]
  },
  {
   "cell_type": "code",
   "execution_count": 7,
   "metadata": {
    "collapsed": false,
    "scrolled": true
   },
   "outputs": [
    {
     "name": "stdout",
     "output_type": "stream",
     "text": [
      "((300, 48), (95, 48), (300,), (95,))\n",
      "((200, 48), (195, 48), (200,), (195,))\n",
      "((100, 48), (295, 48), (100,), (295,))\n",
      "Training a GaussianNB using a training set size of 300. . .\n",
      "Trained model in 0.0023 seconds\n",
      "Made predictions in 0.0007 seconds.\n",
      "Made predictions in 0.0004 seconds.\n",
      "F1 score for training set: 0.7944.\n",
      "F1 score for test set: 0.8000.\n",
      "Training a GaussianNB using a training set size of 200. . .\n",
      "Trained model in 0.0014 seconds\n",
      "Made predictions in 0.0006 seconds.\n",
      "Made predictions in 0.0006 seconds.\n",
      "F1 score for training set: 0.8100.\n",
      "F1 score for test set: 0.7758.\n",
      "Training a GaussianNB using a training set size of 100. . .\n",
      "Trained model in 0.0012 seconds\n",
      "Made predictions in 0.0004 seconds.\n",
      "Made predictions in 0.0006 seconds.\n",
      "F1 score for training set: 0.8358.\n",
      "F1 score for test set: 0.6872.\n",
      "Training a RandomForestClassifier using a training set size of 300. . .\n",
      "Trained model in 0.0341 seconds\n",
      "Made predictions in 0.0018 seconds.\n",
      "Made predictions in 0.0014 seconds.\n",
      "F1 score for training set: 0.9949.\n",
      "F1 score for test set: 0.7218.\n",
      "Training a RandomForestClassifier using a training set size of 200. . .\n",
      "Trained model in 0.0289 seconds\n",
      "Made predictions in 0.0014 seconds.\n",
      "Made predictions in 0.0013 seconds.\n",
      "F1 score for training set: 0.9961.\n",
      "F1 score for test set: 0.7159.\n",
      "Training a RandomForestClassifier using a training set size of 100. . .\n",
      "Trained model in 0.0240 seconds\n",
      "Made predictions in 0.0011 seconds.\n",
      "Made predictions in 0.0013 seconds.\n",
      "F1 score for training set: 0.9855.\n",
      "F1 score for test set: 0.7044.\n",
      "Training a LogisticRegression using a training set size of 300. . .\n",
      "Trained model in 0.0030 seconds\n",
      "Made predictions in 0.0014 seconds.\n",
      "Made predictions in 0.0002 seconds.\n",
      "F1 score for training set: 0.8257.\n",
      "F1 score for test set: 0.8276.\n",
      "Training a LogisticRegression using a training set size of 200. . .\n",
      "Trained model in 0.0020 seconds\n",
      "Made predictions in 0.0002 seconds.\n",
      "Made predictions in 0.0002 seconds.\n",
      "F1 score for training set: 0.8462.\n",
      "F1 score for test set: 0.7616.\n",
      "Training a LogisticRegression using a training set size of 100. . .\n",
      "Trained model in 0.0012 seconds\n",
      "Made predictions in 0.0002 seconds.\n",
      "Made predictions in 0.0002 seconds.\n",
      "F1 score for training set: 0.9241.\n",
      "F1 score for test set: 0.7368.\n",
      "Training a SGDClassifier using a training set size of 300. . .\n",
      "Trained model in 0.0012 seconds\n",
      "Made predictions in 0.0002 seconds.\n",
      "Made predictions in 0.0002 seconds.\n",
      "F1 score for training set: 0.6971.\n",
      "F1 score for test set: 0.5660.\n",
      "Training a SGDClassifier using a training set size of 200. . .\n",
      "Trained model in 0.0010 seconds\n",
      "Made predictions in 0.0002 seconds.\n",
      "Made predictions in 0.0002 seconds.\n",
      "F1 score for training set: 0.7791.\n",
      "F1 score for test set: 0.7194.\n",
      "Training a SGDClassifier using a training set size of 100. . .\n",
      "Trained model in 0.0006 seconds\n",
      "Made predictions in 0.0001 seconds.\n",
      "Made predictions in 0.0002 seconds.\n",
      "F1 score for training set: 0.9079.\n",
      "F1 score for test set: 0.7528.\n",
      "Training a SVC using a training set size of 300. . .\n",
      "Trained model in 0.0133 seconds\n",
      "Made predictions in 0.0105 seconds.\n",
      "Made predictions in 0.0034 seconds.\n",
      "F1 score for training set: 0.7919.\n",
      "F1 score for test set: 0.8415.\n",
      "Training a SVC using a training set size of 200. . .\n",
      "Trained model in 0.0063 seconds\n",
      "Made predictions in 0.0065 seconds.\n",
      "Made predictions in 0.0061 seconds.\n",
      "F1 score for training set: 0.7842.\n",
      "F1 score for test set: 0.8218.\n",
      "Training a SVC using a training set size of 100. . .\n",
      "Trained model in 0.0034 seconds\n",
      "Made predictions in 0.0016 seconds.\n",
      "Made predictions in 0.0045 seconds.\n",
      "F1 score for training set: 0.8166.\n",
      "F1 score for test set: 0.7984.\n",
      "Training a DecisionTreeClassifier using a training set size of 300. . .\n",
      "Trained model in 0.0032 seconds\n",
      "Made predictions in 0.0003 seconds.\n",
      "Made predictions in 0.0002 seconds.\n",
      "F1 score for training set: 1.0000.\n",
      "F1 score for test set: 0.7910.\n",
      "Training a DecisionTreeClassifier using a training set size of 200. . .\n",
      "Trained model in 0.0021 seconds\n",
      "Made predictions in 0.0002 seconds.\n",
      "Made predictions in 0.0002 seconds.\n",
      "F1 score for training set: 1.0000.\n",
      "F1 score for test set: 0.7132.\n",
      "Training a DecisionTreeClassifier using a training set size of 100. . .\n",
      "Trained model in 0.0013 seconds\n",
      "Made predictions in 0.0003 seconds.\n",
      "Made predictions in 0.0002 seconds.\n",
      "F1 score for training set: 1.0000.\n",
      "F1 score for test set: 0.6356.\n",
      "Training a KNeighborsClassifier using a training set size of 300. . .\n",
      "Trained model in 0.0014 seconds\n",
      "Made predictions in 0.0146 seconds.\n",
      "Made predictions in 0.0049 seconds.\n",
      "F1 score for training set: 0.8000.\n",
      "F1 score for test set: 0.7338.\n",
      "Training a KNeighborsClassifier using a training set size of 200. . .\n",
      "Trained model in 0.0008 seconds\n",
      "Made predictions in 0.0053 seconds.\n",
      "Made predictions in 0.0052 seconds.\n",
      "F1 score for training set: 0.8129.\n",
      "F1 score for test set: 0.7317.\n",
      "Training a KNeighborsClassifier using a training set size of 100. . .\n",
      "Trained model in 0.0006 seconds\n",
      "Made predictions in 0.0017 seconds.\n",
      "Made predictions in 0.0040 seconds.\n",
      "F1 score for training set: 0.7785.\n",
      "F1 score for test set: 0.7359.\n"
     ]
    }
   ],
   "source": [
    "# TODO: Import the three supervised learning models from sklearn\n",
    "\n",
    "\n",
    "\n",
    "from sklearn.naive_bayes import GaussianNB\n",
    "from sklearn.tree import DecisionTreeClassifier\n",
    "from sklearn.ensemble import RandomForestClassifier\n",
    "from sklearn.neighbors import KNeighborsClassifier\n",
    "from sklearn.linear_model import SGDClassifier\n",
    "from sklearn.svm import SVC\n",
    "from sklearn.linear_model import LogisticRegression\n",
    "\n",
    "import collections\n",
    "import PrettyTable as pt\n",
    "import numpy as np\n",
    "\n",
    "\n",
    "# TODO: Initialize the three models\n",
    "clf_A = GaussianNB()\n",
    "clf_B = RandomForestClassifier(random_state=rstate, n_jobs=1)\n",
    "clf_C = LogisticRegression(random_state=rstate,n_jobs=1)\n",
    "clf_D = SGDClassifier(random_state=rstate,n_jobs=1)\n",
    "clf_E = SVC(random_state=rstate)\n",
    "clf_F = DecisionTreeClassifier(random_state=rstate)\n",
    "clf_G = KNeighborsClassifier(n_jobs=1)\n",
    "\n",
    "\n",
    "# TODO: Set up the training set sizes\n",
    "\n",
    "X_total=pd.concat([X_train,X_test])\n",
    "y_total=pd.concat([y_train,y_test])\n",
    "\n",
    "X_train_300, X_test_95, y_train_300, y_test_95=X_train, X_test, y_train, y_test\n",
    "X_train_200, X_test_195, y_train_200, y_test_195=X_total[0:200], X_total[200:395], y_total[0:200], y_total[200:395]\n",
    "X_train_100, X_test_295, y_train_100, y_test_295=X_total[0:100], X_total[100:395], y_total[0:100], y_total[100:395]\n",
    "\n",
    "\n",
    "\n",
    "print (X_train_300.shape, X_test_95.shape, y_train_300.shape, y_test_95.shape)\n",
    "print (X_train_200.shape, X_test_195.shape, y_train_200.shape, y_test_195.shape)\n",
    "print (X_train_100.shape, X_test_295.shape, y_train_100.shape, y_test_295.shape)\n",
    "\n",
    "\n",
    "letters=[clf_A,clf_B,clf_C,clf_D,clf_E,clf_F,clf_G]\n",
    "\n",
    "finaltablelist=[]\n",
    "\n",
    "for i in letters:\n",
    "                       \n",
    "    line3=train_predict(i, X_train_300,y_train_300,X_test_95,y_test_95)\n",
    "    line2=train_predict(i, X_train_200,y_train_200,X_test_195,y_test_195)\n",
    "    line1=train_predict(i, X_train_100,y_train_100,X_test_295,y_test_295)\n",
    "    \n",
    "    line1=[\"{0:.2g}\".format(item) for item in line1]\n",
    "    line2=[\"{0:.2g}\".format(item) for item in line2]\n",
    "    line3=[\"{0:.2g}\".format(item) for item in line3]\n",
    "    \n",
    "    line1.insert(0,'100')\n",
    "    line2.insert(0,'200')\n",
    "    line3.insert(0,'300')\n",
    "\n",
    "    data = [line1,line2,line3]\n",
    "    finaltablelist.append(data)\n",
    "    "
   ]
  },
  {
   "cell_type": "markdown",
   "metadata": {},
   "source": [
    "### Tabular Results\n",
    "Edit the cell below to see how a table can be designed in [Markdown](https://github.com/adam-p/markdown-here/wiki/Markdown-Cheatsheet#tables). You can record your results from above in the tables provided."
   ]
  },
  {
   "cell_type": "markdown",
   "metadata": {},
   "source": [
    "__NOTE__: PrettyTable code obtained from [Julius Schulz](http://blog.juliusschulz.de/blog/ultimate-ipython-notebook#create-tables-with-python-code)'s blog"
   ]
  },
  {
   "cell_type": "markdown",
   "metadata": {},
   "source": [
    "### Classifier : Decission Tree Classifier"
   ]
  },
  {
   "cell_type": "code",
   "execution_count": 8,
   "metadata": {
    "collapsed": false,
    "scrolled": true
   },
   "outputs": [
    {
     "data": {
      "text/html": [
       "<table><tr><td>$\\textbf{Training Set Size}$</td><td>$\\textbf{Training time}$</td><td>$\\textbf{Prediction time (test)}$</td><td>$\\textbf{F1 Score (train)}$</td><td>$\\textbf{F1 Score (test)}$</td></tr><tr><td>100</td><td>0.0013</td><td>0.00022</td><td>1</td><td>0.64</td></tr><tr><td>200</td><td>0.0021</td><td>0.0002</td><td>1</td><td>0.71</td></tr><tr><td>300</td><td>0.0032</td><td>0.00018</td><td>1</td><td>0.79</td></tr></table>"
      ],
      "text/latex": [
       "\\begin{longtable}[c]{@{}lllll@{}}\n",
       "\\toprule\\addlinespace\n",
       "$\\textbf{Training Set Size}$ & $\\textbf{Training time}$ & $\\textbf{Prediction time (test)}$ & $\\textbf{F1 Score (train)}$ & $\\textbf{F1 Score (test)}$\\\\\\addlinespace \n",
       "\\midrule\\endhead\n",
       "100 & 0.0013 & 0.00022 & 1 & 0.64\\\\\\addlinespace \n",
       "200 & 0.0021 & 0.0002 & 1 & 0.71\\\\\\addlinespace \n",
       "300 & 0.0032 & 0.00018 & 1 & 0.79\\\\\\addlinespace \n",
       "\\bottomrule \n",
       " \\end{longtable}"
      ],
      "text/plain": [
       "[['$\\\\textbf{Training Set Size}$',\n",
       "  '$\\\\textbf{Training time}$',\n",
       "  '$\\\\textbf{Prediction time (test)}$',\n",
       "  '$\\\\textbf{F1 Score (train)}$',\n",
       "  '$\\\\textbf{F1 Score (test)}$'],\n",
       " ['100', '0.0013', '0.00022', '1', '0.64'],\n",
       " ['200', '0.0021', '0.0002', '1', '0.71'],\n",
       " ['300', '0.0032', '0.00018', '1', '0.79']]"
      ]
     },
     "execution_count": 8,
     "metadata": {},
     "output_type": "execute_result"
    }
   ],
   "source": [
    "pt.PrettyTable(finaltablelist[5], [r\"$\\textbf{Training Set Size}$\", r\"$\\textbf{Training time}$\", r\"$\\textbf{Prediction time (test)}$\", r\"$\\textbf{F1 Score (train)}$\",r\"$\\textbf{F1 Score (test)}$\"]) "
   ]
  },
  {
   "cell_type": "markdown",
   "metadata": {},
   "source": [
    "### Classifier : Gaussian Naive Bayes"
   ]
  },
  {
   "cell_type": "code",
   "execution_count": 9,
   "metadata": {
    "collapsed": false,
    "scrolled": true
   },
   "outputs": [
    {
     "data": {
      "text/html": [
       "<table><tr><td>$\\textbf{Training Set Size}$</td><td>$\\textbf{Training time}$</td><td>$\\textbf{Prediction time (test)}$</td><td>$\\textbf{F1 Score (train)}$</td><td>$\\textbf{F1 Score (test)}$</td></tr><tr><td>100</td><td>0.0012</td><td>0.00064</td><td>0.84</td><td>0.69</td></tr><tr><td>200</td><td>0.0014</td><td>0.00057</td><td>0.81</td><td>0.78</td></tr><tr><td>300</td><td>0.0023</td><td>0.00044</td><td>0.79</td><td>0.8</td></tr></table>"
      ],
      "text/latex": [
       "\\begin{longtable}[c]{@{}lllll@{}}\n",
       "\\toprule\\addlinespace\n",
       "$\\textbf{Training Set Size}$ & $\\textbf{Training time}$ & $\\textbf{Prediction time (test)}$ & $\\textbf{F1 Score (train)}$ & $\\textbf{F1 Score (test)}$\\\\\\addlinespace \n",
       "\\midrule\\endhead\n",
       "100 & 0.0012 & 0.00064 & 0.84 & 0.69\\\\\\addlinespace \n",
       "200 & 0.0014 & 0.00057 & 0.81 & 0.78\\\\\\addlinespace \n",
       "300 & 0.0023 & 0.00044 & 0.79 & 0.8\\\\\\addlinespace \n",
       "\\bottomrule \n",
       " \\end{longtable}"
      ],
      "text/plain": [
       "[['$\\\\textbf{Training Set Size}$',\n",
       "  '$\\\\textbf{Training time}$',\n",
       "  '$\\\\textbf{Prediction time (test)}$',\n",
       "  '$\\\\textbf{F1 Score (train)}$',\n",
       "  '$\\\\textbf{F1 Score (test)}$'],\n",
       " ['100', '0.0012', '0.00064', '0.84', '0.69'],\n",
       " ['200', '0.0014', '0.00057', '0.81', '0.78'],\n",
       " ['300', '0.0023', '0.00044', '0.79', '0.8']]"
      ]
     },
     "execution_count": 9,
     "metadata": {},
     "output_type": "execute_result"
    }
   ],
   "source": [
    "pt.PrettyTable(finaltablelist[0], [r\"$\\textbf{Training Set Size}$\", r\"$\\textbf{Training time}$\", r\"$\\textbf{Prediction time (test)}$\", r\"$\\textbf{F1 Score (train)}$\",r\"$\\textbf{F1 Score (test)}$\"]) "
   ]
  },
  {
   "cell_type": "markdown",
   "metadata": {},
   "source": [
    "### Classifier : Random Forest Classifier"
   ]
  },
  {
   "cell_type": "code",
   "execution_count": 10,
   "metadata": {
    "collapsed": false,
    "scrolled": true
   },
   "outputs": [
    {
     "data": {
      "text/html": [
       "<table><tr><td>$\\textbf{Training Set Size}$</td><td>$\\textbf{Training time}$</td><td>$\\textbf{Prediction time (test)}$</td><td>$\\textbf{F1 Score (train)}$</td><td>$\\textbf{F1 Score (test)}$</td></tr><tr><td>100</td><td>0.024</td><td>0.0013</td><td>0.99</td><td>0.7</td></tr><tr><td>200</td><td>0.029</td><td>0.0013</td><td>1</td><td>0.72</td></tr><tr><td>300</td><td>0.034</td><td>0.0014</td><td>0.99</td><td>0.72</td></tr></table>"
      ],
      "text/latex": [
       "\\begin{longtable}[c]{@{}lllll@{}}\n",
       "\\toprule\\addlinespace\n",
       "$\\textbf{Training Set Size}$ & $\\textbf{Training time}$ & $\\textbf{Prediction time (test)}$ & $\\textbf{F1 Score (train)}$ & $\\textbf{F1 Score (test)}$\\\\\\addlinespace \n",
       "\\midrule\\endhead\n",
       "100 & 0.024 & 0.0013 & 0.99 & 0.7\\\\\\addlinespace \n",
       "200 & 0.029 & 0.0013 & 1 & 0.72\\\\\\addlinespace \n",
       "300 & 0.034 & 0.0014 & 0.99 & 0.72\\\\\\addlinespace \n",
       "\\bottomrule \n",
       " \\end{longtable}"
      ],
      "text/plain": [
       "[['$\\\\textbf{Training Set Size}$',\n",
       "  '$\\\\textbf{Training time}$',\n",
       "  '$\\\\textbf{Prediction time (test)}$',\n",
       "  '$\\\\textbf{F1 Score (train)}$',\n",
       "  '$\\\\textbf{F1 Score (test)}$'],\n",
       " ['100', '0.024', '0.0013', '0.99', '0.7'],\n",
       " ['200', '0.029', '0.0013', '1', '0.72'],\n",
       " ['300', '0.034', '0.0014', '0.99', '0.72']]"
      ]
     },
     "execution_count": 10,
     "metadata": {},
     "output_type": "execute_result"
    }
   ],
   "source": [
    "pt.PrettyTable(finaltablelist[1], [r\"$\\textbf{Training Set Size}$\", r\"$\\textbf{Training time}$\", r\"$\\textbf{Prediction time (test)}$\", r\"$\\textbf{F1 Score (train)}$\",r\"$\\textbf{F1 Score (test)}$\"]) "
   ]
  },
  {
   "cell_type": "markdown",
   "metadata": {},
   "source": [
    "### Classifier : Logistic Regression"
   ]
  },
  {
   "cell_type": "code",
   "execution_count": 11,
   "metadata": {
    "collapsed": false,
    "scrolled": true
   },
   "outputs": [
    {
     "data": {
      "text/html": [
       "<table><tr><td>$\\textbf{Training Set Size}$</td><td>$\\textbf{Training time}$</td><td>$\\textbf{Prediction time (test)}$</td><td>$\\textbf{F1 Score (train)}$</td><td>$\\textbf{F1 Score (test)}$</td></tr><tr><td>100</td><td>0.0012</td><td>0.00024</td><td>0.92</td><td>0.74</td></tr><tr><td>200</td><td>0.002</td><td>0.00021</td><td>0.85</td><td>0.76</td></tr><tr><td>300</td><td>0.003</td><td>0.0002</td><td>0.83</td><td>0.83</td></tr></table>"
      ],
      "text/latex": [
       "\\begin{longtable}[c]{@{}lllll@{}}\n",
       "\\toprule\\addlinespace\n",
       "$\\textbf{Training Set Size}$ & $\\textbf{Training time}$ & $\\textbf{Prediction time (test)}$ & $\\textbf{F1 Score (train)}$ & $\\textbf{F1 Score (test)}$\\\\\\addlinespace \n",
       "\\midrule\\endhead\n",
       "100 & 0.0012 & 0.00024 & 0.92 & 0.74\\\\\\addlinespace \n",
       "200 & 0.002 & 0.00021 & 0.85 & 0.76\\\\\\addlinespace \n",
       "300 & 0.003 & 0.0002 & 0.83 & 0.83\\\\\\addlinespace \n",
       "\\bottomrule \n",
       " \\end{longtable}"
      ],
      "text/plain": [
       "[['$\\\\textbf{Training Set Size}$',\n",
       "  '$\\\\textbf{Training time}$',\n",
       "  '$\\\\textbf{Prediction time (test)}$',\n",
       "  '$\\\\textbf{F1 Score (train)}$',\n",
       "  '$\\\\textbf{F1 Score (test)}$'],\n",
       " ['100', '0.0012', '0.00024', '0.92', '0.74'],\n",
       " ['200', '0.002', '0.00021', '0.85', '0.76'],\n",
       " ['300', '0.003', '0.0002', '0.83', '0.83']]"
      ]
     },
     "execution_count": 11,
     "metadata": {},
     "output_type": "execute_result"
    }
   ],
   "source": [
    "pt.PrettyTable(finaltablelist[2], [r\"$\\textbf{Training Set Size}$\", r\"$\\textbf{Training time}$\", r\"$\\textbf{Prediction time (test)}$\", r\"$\\textbf{F1 Score (train)}$\",r\"$\\textbf{F1 Score (test)}$\"]) "
   ]
  },
  {
   "cell_type": "markdown",
   "metadata": {},
   "source": [
    "### Classifier : SGD Classifier"
   ]
  },
  {
   "cell_type": "code",
   "execution_count": 12,
   "metadata": {
    "collapsed": false,
    "scrolled": true
   },
   "outputs": [
    {
     "data": {
      "text/html": [
       "<table><tr><td>$\\textbf{Training Set Size}$</td><td>$\\textbf{Training time}$</td><td>$\\textbf{Prediction time (test)}$</td><td>$\\textbf{F1 Score (train)}$</td><td>$\\textbf{F1 Score (test)}$</td></tr><tr><td>100</td><td>0.00058</td><td>0.00016</td><td>0.91</td><td>0.75</td></tr><tr><td>200</td><td>0.00095</td><td>0.00016</td><td>0.78</td><td>0.72</td></tr><tr><td>300</td><td>0.0012</td><td>0.00017</td><td>0.7</td><td>0.57</td></tr></table>"
      ],
      "text/latex": [
       "\\begin{longtable}[c]{@{}lllll@{}}\n",
       "\\toprule\\addlinespace\n",
       "$\\textbf{Training Set Size}$ & $\\textbf{Training time}$ & $\\textbf{Prediction time (test)}$ & $\\textbf{F1 Score (train)}$ & $\\textbf{F1 Score (test)}$\\\\\\addlinespace \n",
       "\\midrule\\endhead\n",
       "100 & 0.00058 & 0.00016 & 0.91 & 0.75\\\\\\addlinespace \n",
       "200 & 0.00095 & 0.00016 & 0.78 & 0.72\\\\\\addlinespace \n",
       "300 & 0.0012 & 0.00017 & 0.7 & 0.57\\\\\\addlinespace \n",
       "\\bottomrule \n",
       " \\end{longtable}"
      ],
      "text/plain": [
       "[['$\\\\textbf{Training Set Size}$',\n",
       "  '$\\\\textbf{Training time}$',\n",
       "  '$\\\\textbf{Prediction time (test)}$',\n",
       "  '$\\\\textbf{F1 Score (train)}$',\n",
       "  '$\\\\textbf{F1 Score (test)}$'],\n",
       " ['100', '0.00058', '0.00016', '0.91', '0.75'],\n",
       " ['200', '0.00095', '0.00016', '0.78', '0.72'],\n",
       " ['300', '0.0012', '0.00017', '0.7', '0.57']]"
      ]
     },
     "execution_count": 12,
     "metadata": {},
     "output_type": "execute_result"
    }
   ],
   "source": [
    "pt.PrettyTable(finaltablelist[3], [r\"$\\textbf{Training Set Size}$\", r\"$\\textbf{Training time}$\", r\"$\\textbf{Prediction time (test)}$\", r\"$\\textbf{F1 Score (train)}$\",r\"$\\textbf{F1 Score (test)}$\"]) "
   ]
  },
  {
   "cell_type": "markdown",
   "metadata": {},
   "source": [
    "### Classifier : SVC Classifier"
   ]
  },
  {
   "cell_type": "code",
   "execution_count": 13,
   "metadata": {
    "collapsed": false,
    "scrolled": true
   },
   "outputs": [
    {
     "data": {
      "text/html": [
       "<table><tr><td>$\\textbf{Training Set Size}$</td><td>$\\textbf{Training time}$</td><td>$\\textbf{Prediction time (test)}$</td><td>$\\textbf{F1 Score (train)}$</td><td>$\\textbf{F1 Score (test)}$</td></tr><tr><td>100</td><td>0.0034</td><td>0.0045</td><td>0.82</td><td>0.8</td></tr><tr><td>200</td><td>0.0063</td><td>0.0061</td><td>0.78</td><td>0.82</td></tr><tr><td>300</td><td>0.013</td><td>0.0034</td><td>0.79</td><td>0.84</td></tr></table>"
      ],
      "text/latex": [
       "\\begin{longtable}[c]{@{}lllll@{}}\n",
       "\\toprule\\addlinespace\n",
       "$\\textbf{Training Set Size}$ & $\\textbf{Training time}$ & $\\textbf{Prediction time (test)}$ & $\\textbf{F1 Score (train)}$ & $\\textbf{F1 Score (test)}$\\\\\\addlinespace \n",
       "\\midrule\\endhead\n",
       "100 & 0.0034 & 0.0045 & 0.82 & 0.8\\\\\\addlinespace \n",
       "200 & 0.0063 & 0.0061 & 0.78 & 0.82\\\\\\addlinespace \n",
       "300 & 0.013 & 0.0034 & 0.79 & 0.84\\\\\\addlinespace \n",
       "\\bottomrule \n",
       " \\end{longtable}"
      ],
      "text/plain": [
       "[['$\\\\textbf{Training Set Size}$',\n",
       "  '$\\\\textbf{Training time}$',\n",
       "  '$\\\\textbf{Prediction time (test)}$',\n",
       "  '$\\\\textbf{F1 Score (train)}$',\n",
       "  '$\\\\textbf{F1 Score (test)}$'],\n",
       " ['100', '0.0034', '0.0045', '0.82', '0.8'],\n",
       " ['200', '0.0063', '0.0061', '0.78', '0.82'],\n",
       " ['300', '0.013', '0.0034', '0.79', '0.84']]"
      ]
     },
     "execution_count": 13,
     "metadata": {},
     "output_type": "execute_result"
    }
   ],
   "source": [
    "pt.PrettyTable(finaltablelist[4], [r\"$\\textbf{Training Set Size}$\", r\"$\\textbf{Training time}$\", r\"$\\textbf{Prediction time (test)}$\", r\"$\\textbf{F1 Score (train)}$\",r\"$\\textbf{F1 Score (test)}$\"]) "
   ]
  },
  {
   "cell_type": "markdown",
   "metadata": {},
   "source": [
    "### Classifier : K Nearest Neighbors"
   ]
  },
  {
   "cell_type": "code",
   "execution_count": 14,
   "metadata": {
    "collapsed": false,
    "scrolled": false
   },
   "outputs": [
    {
     "data": {
      "text/html": [
       "<table><tr><td>$\\textbf{Training Set Size}$</td><td>$\\textbf{Training time}$</td><td>$\\textbf{Prediction time (test)}$</td><td>$\\textbf{F1 Score (train)}$</td><td>$\\textbf{F1 Score (test)}$</td></tr><tr><td>100</td><td>0.00062</td><td>0.004</td><td>0.78</td><td>0.74</td></tr><tr><td>200</td><td>0.00085</td><td>0.0052</td><td>0.81</td><td>0.73</td></tr><tr><td>300</td><td>0.0014</td><td>0.0049</td><td>0.8</td><td>0.73</td></tr></table>"
      ],
      "text/latex": [
       "\\begin{longtable}[c]{@{}lllll@{}}\n",
       "\\toprule\\addlinespace\n",
       "$\\textbf{Training Set Size}$ & $\\textbf{Training time}$ & $\\textbf{Prediction time (test)}$ & $\\textbf{F1 Score (train)}$ & $\\textbf{F1 Score (test)}$\\\\\\addlinespace \n",
       "\\midrule\\endhead\n",
       "100 & 0.00062 & 0.004 & 0.78 & 0.74\\\\\\addlinespace \n",
       "200 & 0.00085 & 0.0052 & 0.81 & 0.73\\\\\\addlinespace \n",
       "300 & 0.0014 & 0.0049 & 0.8 & 0.73\\\\\\addlinespace \n",
       "\\bottomrule \n",
       " \\end{longtable}"
      ],
      "text/plain": [
       "[['$\\\\textbf{Training Set Size}$',\n",
       "  '$\\\\textbf{Training time}$',\n",
       "  '$\\\\textbf{Prediction time (test)}$',\n",
       "  '$\\\\textbf{F1 Score (train)}$',\n",
       "  '$\\\\textbf{F1 Score (test)}$'],\n",
       " ['100', '0.00062', '0.004', '0.78', '0.74'],\n",
       " ['200', '0.00085', '0.0052', '0.81', '0.73'],\n",
       " ['300', '0.0014', '0.0049', '0.8', '0.73']]"
      ]
     },
     "execution_count": 14,
     "metadata": {},
     "output_type": "execute_result"
    }
   ],
   "source": [
    "pt.PrettyTable(finaltablelist[6], [r\"$\\textbf{Training Set Size}$\", r\"$\\textbf{Training time}$\", r\"$\\textbf{Prediction time (test)}$\", r\"$\\textbf{F1 Score (train)}$\",r\"$\\textbf{F1 Score (test)}$\"]) "
   ]
  },
  {
   "cell_type": "markdown",
   "metadata": {},
   "source": [
    "### Preliminary Plot"
   ]
  },
  {
   "cell_type": "markdown",
   "metadata": {},
   "source": [
    "Here we plot the results to make a quick comparison of all the models."
   ]
  },
  {
   "cell_type": "code",
   "execution_count": 15,
   "metadata": {
    "collapsed": false,
    "scrolled": true
   },
   "outputs": [
    {
     "data": {
      "image/png": "[encoded data removed]",
      "text/plain": [
       "<matplotlib.figure.Figure at 0x7f95eba44d90>"
      ]
     },
     "metadata": {},
     "output_type": "display_data"
    },
    {
     "data": {
      "image/png": "[encoded data removed]",
      "text/plain": [
       "<matplotlib.figure.Figure at 0x7f95e8ee1210>"
      ]
     },
     "metadata": {},
     "output_type": "display_data"
    },
    {
     "data": {
      "image/png": "[encoded data removed]",
      "text/plain": [
       "<matplotlib.figure.Figure at 0x7f95e8c2af90>"
      ]
     },
     "metadata": {},
     "output_type": "display_data"
    }
   ],
   "source": [
    "import matplotlib.pyplot as plt\n",
    "\n",
    "labels = ['GNB',  'Random Forest', 'Logistic Regression', 'SGD', 'SVC','Decision Tree', 'K-neighbors']\n",
    "\n",
    "xvalues=np.arange(0,len(finaltablelist))\n",
    "\n",
    "ytrainingtime=[[] for i in range(3)]\n",
    "ypredictiontime=[[] for i in range(3)]\n",
    "yf1train=[[] for i in range(3)]\n",
    "yf1test=[[] for i in range(3)]\n",
    "\n",
    "for j in range(3):\n",
    "\n",
    "    fig, ((ax1, ax2),(ax3,ax4)) = plt.subplots(2, 2, sharex=True, figsize=(10,10))\n",
    "    plt.xticks(xvalues, labels, rotation='vertical')\n",
    "    \n",
    "    \n",
    "    ntrain=(j+1)*100\n",
    "    ntest=395-ntrain\n",
    "    \n",
    "    traintext,testtext=str(ntrain),str(ntest)\n",
    "    \n",
    "    titleglobal=traintext+' Training Samples - '+ testtext + ' Testing Samples'\n",
    "    \n",
    "    plt.suptitle(titleglobal, y=1.05, fontsize=24)\n",
    "    \n",
    "   \n",
    "    for i in range(7):\n",
    "\n",
    "        ytrainingtime[j].append(finaltablelist[i][j][1])\n",
    "        ypredictiontime[j].append(finaltablelist[i][j][2])\n",
    "        yf1train[j].append(finaltablelist[i][j][3])\n",
    "        yf1test[j].append(finaltablelist[i][j][4])\n",
    "        \n",
    "    ax1.set_ylabel('Time (s)')\n",
    "    ax1.set_title('Training Time')\n",
    "    ax2.set_title('Prediction Time')\n",
    "    ax3.set_title('F1 Score (train)')\n",
    "    ax4.set_title('F1 Score (test)')\n",
    "\n",
    "\n",
    "    ax4.set_xticklabels(labels, rotation='vertical')\n",
    "    ax3.set_xticklabels(labels, rotation='vertical')\n",
    "\n",
    "    ax1.plot(xvalues, ytrainingtime[j], 'bo')\n",
    "    ax2.plot(xvalues, ypredictiontime[j], 'bo')\n",
    "    ax3.plot(xvalues, yf1train[j], 'bo')\n",
    "    ax4.plot(xvalues, yf1test[j], 'bo')\n",
    "\n",
    "    ax1.set_ylim([-0.01, 0.03])\n",
    "    ax2.set_ylim([0, 0.004])\n",
    "    ax3.set_ylim([0, 2])\n",
    "    ax4.set_ylim([0,1.2])\n",
    "\n",
    "    ax1.set_xlim([-1, 7])\n",
    "\n",
    "    plt.tight_layout()\n",
    "    plt.show()\n"
   ]
  },
  {
   "cell_type": "markdown",
   "metadata": {},
   "source": [
    "K Nearest Neighbors (KNN) is discarded because it consumes more resources than SVC in predicting and delivers slightly worse results. Random Forest (RF) does not improve DT accuracy or overfitting and adds processing time. SGB seems to have problems with convergence and scores poorly. These results mirror the analysis provided in the Model Application section."
   ]
  },
  {
   "cell_type": "markdown",
   "metadata": {},
   "source": [
    "## Choosing the Best Model\n",
    "In this final section, you will choose from the three supervised learning models the *best* model to use on the student data. You will then perform a grid search optimization for the model over the entire training set (`X_train` and `y_train`) by tuning at least one parameter to improve upon the untuned model's F<sub>1</sub> score. "
   ]
  },
  {
   "cell_type": "markdown",
   "metadata": {},
   "source": [
    "__OBSERVATION__: We now focus on the five selected models: SGD, SVC, Decision Tree, Logistic Regression and GNB."
   ]
  },
  {
   "cell_type": "code",
   "execution_count": 16,
   "metadata": {
    "collapsed": false,
    "scrolled": true
   },
   "outputs": [
    {
     "data": {
      "image/png": "[encoded data removed]",
      "text/plain": [
       "<matplotlib.figure.Figure at 0x7f95e8fe8f50>"
      ]
     },
     "metadata": {},
     "output_type": "display_data"
    },
    {
     "data": {
      "image/png": "[encoded data removed]",
      "text/plain": [
       "<matplotlib.figure.Figure at 0x7f95ef056850>"
      ]
     },
     "metadata": {},
     "output_type": "display_data"
    },
    {
     "data": {
      "image/png": "[encoded data removed]",
      "text/plain": [
       "<matplotlib.figure.Figure at 0x7f95e886ae90>"
      ]
     },
     "metadata": {},
     "output_type": "display_data"
    },
    {
     "data": {
      "image/png": "[encoded data removed]",
      "text/plain": [
       "<matplotlib.figure.Figure at 0x7f95e870cf10>"
      ]
     },
     "metadata": {},
     "output_type": "display_data"
    }
   ],
   "source": [
    "labels2 = ['Train Time',  'Prediction Time', 'Train F1 Score','Test F1 Score']\n",
    "\n",
    "xvalues=np.arange(0,len(finaltablelist))\n",
    "\n",
    "yval_f=[[[] for i in range(5)] for j in range(4)]\n",
    "\n",
    "for j, item in enumerate([0,2,3,4,5]):\n",
    "    \n",
    "    for i in range(3) :\n",
    "        \n",
    "        for k in range(4):\n",
    "        \n",
    "            yval_f[k][j].append(finaltablelist[item][i][k+1])\n",
    "        \n",
    "\n",
    "for m in range(4):\n",
    "\n",
    "    N = 3\n",
    "    ind = np.arange(N)  # the x locations for the groups\n",
    "    width = 0.16       # the width of the bars\n",
    "\n",
    "    figx = plt.figure(figsize=(10,8))\n",
    "    ax = figx.add_subplot(111)\n",
    "\n",
    "    y1vals = yval_f[m][0]\n",
    "    rects1 = ax.bar(ind, y1vals, width, color='r')\n",
    "    y2vals = yval_f[m][1]\n",
    "    rects2 = ax.bar(ind+width, y2vals, width, color='g')\n",
    "    y3vals = yval_f[m][2]\n",
    "    rects3 = ax.bar(ind+width*2, y3vals, width, color='b')\n",
    "    y4vals = yval_f[m][3]\n",
    "    rects4 = ax.bar(ind+width*3, y4vals, width, color='m')\n",
    "    y5vals = yval_f[m][4]\n",
    "    rects5 = ax.bar(ind+width*4, y5vals, width, color='y')\n",
    "\n",
    "\n",
    "    ax.set_ylabel(labels2[m])\n",
    "    ax.set_xticks(ind+width)\n",
    "    ax.set_xticklabels( ('100 Samples', '200 Samples', '300 Samples') )\n",
    "    ax.legend((rects1[0], rects2[0], rects3[0], rects4[0],rects5[0]), ('GNB', 'Logistic Regression','SGD','SVC', 'Decision Tree'),loc='upper center' )\n",
    "    ax.set_ylim([0, 0.01])\n",
    "    \n",
    "\n",
    "    high =float(max(y1vals+y2vals+y3vals+y4vals+y5vals))\n",
    "\n",
    "    plt.ylim(0, high*1.4)\n",
    "\n",
    "    plt.show()"
   ]
  },
  {
   "cell_type": "markdown",
   "metadata": {},
   "source": [
    "### Question 3 - Choosing the Best Model\n",
    "*Based on the experiments you performed earlier, in one to two paragraphs, explain to the board of supervisors what single model you chose as the best model. Which model is generally the most appropriate based on the available data, limited resources, cost, and performance?*"
   ]
  },
  {
   "cell_type": "markdown",
   "metadata": {},
   "source": [
    "__OBSERVATION__: The results are dependent on the random state selected. Usually the models are run using different random state values and an average is taken. The pseudo randomnes is set constant for comparison between models, but the reality is that the results depend on the seed selected. For the purposses of this analysis we chose the seed (random state value) that representes the most likely result out of 10 different values run (not shown)."
   ]
  },
  {
   "cell_type": "markdown",
   "metadata": {},
   "source": [
    "**Answer: **\n",
    "\n",
    "SVC has the highest score among the models and across the different sample training sizes. In a very close second place was LR. However, SVC's computational training cost increases exponentially with training sample size and the prediction time is around 8X the average of other models and thus discarded. Decision Tree was also discarded because despite its fast processing time it underperformed LR and GNB. In turn, GNB underperformed LR.\n",
    "\n",
    "__Greatest Performance Solution__: SVC and LR is the choice for an implementation, with SVC being the costyl option.\n",
    "\n",
    "__Cost Critical Solution__: LR provides the second best score with fast training and prediction times.\n",
    "\n",
    "Implementing SVC represents a 1-3 percent increase in F1 score (accuracy) which means 4-12 additional students correctly classified, but since the goal is to help __decrease the number of students failing the class__, the cost/benefit analysis should include the resources invested in failing students and determine whether the savings in correctly predicting them would offset the cost of using SVC as the predictive algorithm. \n",
    "\n",
    "__Final Model Selection__ The final selected model is LR. However, its performance should be periodically analyzed against SVC to determine, as more data is acquired, if it remains the best option."
   ]
  },
  {
   "cell_type": "markdown",
   "metadata": {},
   "source": [
    "### Question 4 - Model in Layman's Terms\n",
    "*In one to two paragraphs, explain to the board of directors in layman's terms how the final model chosen is supposed to work. Be sure that you are describing the major qualities of the model, such as how the model is trained and how the model makes a prediction. Avoid using advanced mathematical or technical jargon, such as describing equations or discussing the algorithm implementation.*"
   ]
  },
  {
   "cell_type": "markdown",
   "metadata": {},
   "source": [
    "**Answer: **\n",
    "\n",
    "Every model evaluated in this work follow the same general behavior. The differences between them lie on the 'how' rather than the 'what'.\n",
    "\n",
    "The dataset contains features for every student. We can start by thinking of a map, that we will call feature map, where each student is represented by a dot. The positions of these dots on the map depend on their feature values. Students with similar features will naturally group in certain locations. Ideally the groups are well defined but real world problems present a certain degree of overlapping between groups. Thus, the job of the algorithm is to draw the best border line that will divide the map into two regions: one region populated with students that passed and another region with students that didn't (in reality, due to overlapping, the model needs to minimize the overlapping between groups in order to increase accuracy). Once these two regions are defined during the training stage, the model can 'predict' whether new students will fail or not depending on their position in the feature map. The different techniques differ in how they separate these two regions: continuous lines, continuos curves, square areas or even disconnected closed areas."
   ]
  },
  {
   "cell_type": "markdown",
   "metadata": {},
   "source": [
    "### Implementation: Model Tuning\n",
    "Fine tune the chosen model. Use grid search (`GridSearchCV`) with at least one important parameter tuned with at least 3 different values. You will need to use the entire training set for this. In the code cell below, you will need to implement the following:\n",
    "- Import [`sklearn.grid_search.gridSearchCV`](http://scikit-learn.org/stable/modules/generated/sklearn.grid_search.GridSearchCV.html) and [`sklearn.metrics.make_scorer`](http://scikit-learn.org/stable/modules/generated/sklearn.metrics.make_scorer.html).\n",
    "- Create a dictionary of parameters you wish to tune for the chosen model.\n",
    " - Example: `parameters = {'parameter' : [list of values]}`.\n",
    "- Initialize the classifier you've chosen and store it in `clf`.\n",
    "- Create the F<sub>1</sub> scoring function using `make_scorer` and store it in `f1_scorer`.\n",
    " - Set the `pos_label` parameter to the correct value!\n",
    "- Perform grid search on the classifier `clf` using `f1_scorer` as the scoring method, and store it in `grid_obj`.\n",
    "- Fit the grid search object to the training data (`X_train`, `y_train`), and store it in `grid_obj`."
   ]
  },
  {
   "cell_type": "markdown",
   "metadata": {},
   "source": [
    "__OBSERVATION__ Grid search for SVC and SGD will be done for comparison."
   ]
  },
  {
   "cell_type": "markdown",
   "metadata": {},
   "source": [
    "### Logistic Regression Grid Search"
   ]
  },
  {
   "cell_type": "code",
   "execution_count": 17,
   "metadata": {
    "collapsed": false
   },
   "outputs": [
    {
     "name": "stdout",
     "output_type": "stream",
     "text": [
      "best parameters {'penalty': 'l1', 'C': 1.0}\n",
      "Tuned model has a training F1 score of {:.4f}. Made predictions in 0.0003 seconds.\n",
      "(0.83371298405466976, 0.0003190040588378906)\n",
      "Tuned model has a testing F1 score of {:.4f}. Made predictions in 0.0002 seconds.\n",
      "(0.82993197278911557, 0.00015306472778320312)\n"
     ]
    }
   ],
   "source": [
    "# TODO: Import 'GridSearchCV' and 'make_scorer'\n",
    "\n",
    "from sklearn import grid_search\n",
    "from sklearn.metrics import make_scorer\n",
    "\n",
    "# TODO: Create the parameters list you wish to tune\n",
    "\n",
    "#parameters = {'C': np.arange(1,1.5,0.01), 'gamma': np.arange(0, 0.1, 0.01),'kernel':(\"rbf\",\"linear\", \"sigmoid\")}\n",
    "parameters1 = {'C': np.arange(1,1.5,0.01), 'penalty': (\"l1\",\"l2\")}\n",
    "#parameters = {'loss': (\"hinge\", \"log\", \"modified_huber\", \"squared_hinge\", \"perceptron\") , 'penalty': (\"l1\",\"l2\")}\n",
    "\n",
    "# TODO: Initialize the classifier\n",
    "\n",
    "#clf = SVC(random_state=rstate)\n",
    "clf1=LogisticRegression(random_state=rstate)\n",
    "#clf=SGDClassifier(random_state=rstate, n_jobs=-1)\n",
    "\n",
    "\n",
    "# TODO: Make an f1 scoring function using 'make_scorer' \n",
    "f1_scorer = make_scorer(f1_score,pos_label=\"yes\")\n",
    "\n",
    "# TODO: Perform grid search on the classifier using the f1_scorer as the scoring method\n",
    "grid_obj = grid_search.GridSearchCV(clf1,parameters1, scoring=f1_scorer, n_jobs=-1) \n",
    "\n",
    "# TODO: Fit the grid search object to the training data and find the optimal parameters\n",
    "grid_obj.fit(X_train_300,y_train_300)\n",
    "\n",
    "# Get the estimator\n",
    "clf1f = grid_obj.best_estimator_\n",
    "\n",
    "X_train, y_train, X_test, y_test=X_train_300,y_train_300,X_test_95,y_test_95\n",
    "\n",
    "# Report the final F1 score for training and testing after parameter tuning\n",
    "print \"best parameters\", grid_obj.best_params_\n",
    "#print \"Tuned model has a training F1 score of {:.4f}.\".format(predict_labels(clf, X_train, y_train))\n",
    "print \"Tuned model has a training F1 score of {:.4f}.\",predict_labels(clf1f, X_train, y_train)\n",
    "print \"Tuned model has a testing F1 score of {:.4f}.\", predict_labels(clf1f, X_test, y_test)"
   ]
  },
  {
   "cell_type": "markdown",
   "metadata": {},
   "source": [
    "### SVC Grid Search"
   ]
  },
  {
   "cell_type": "code",
   "execution_count": 18,
   "metadata": {
    "collapsed": false,
    "scrolled": true
   },
   "outputs": [
    {
     "name": "stdout",
     "output_type": "stream",
     "text": [
      "best parameters {'kernel': 'rbf', 'C': 1.3000000000000003, 'gamma': 0.050000000000000003}\n",
      "Tuned model has a training F1 score of {:.4f}. Made predictions in 0.0126 seconds.\n",
      "(0.82127659574468082, 0.012588024139404297)\n",
      "Tuned model has a testing F1 score of {:.4f}. Made predictions in 0.0040 seconds.\n",
      "(0.81045751633986929, 0.003980875015258789)\n"
     ]
    }
   ],
   "source": [
    "# TODO: Import 'GridSearchCV' and 'make_scorer'\n",
    "\n",
    "from sklearn import grid_search\n",
    "from sklearn.metrics import make_scorer\n",
    "\n",
    "# TODO: Create the parameters list you wish to tune\n",
    "\n",
    "parameters0 = {'C': np.arange(1,1.5,0.01), 'gamma': np.arange(0, 0.1, 0.01),'kernel':(\"rbf\",\"linear\", \"sigmoid\")}\n",
    "#parameters = {'C': np.arange(1,1.5,0.01), 'penalty': (\"l1\",\"l2\")}\n",
    "#parameters = {'loss': (\"hinge\", \"log\", \"modified_huber\", \"squared_hinge\", \"perceptron\") , 'penalty': (\"l1\",\"l2\")}\n",
    "\n",
    "\n",
    "# TODO: Initialize the classifier\n",
    "\n",
    "clf0 = SVC(random_state=rstate)\n",
    "#clf=LogisticRegression(random_state=rstate, n_jobs=-1)\n",
    "#clf=SGDClassifier(random_state=rstate, n_jobs=-1)\n",
    "\n",
    "\n",
    "\n",
    "# TODO: Make an f1 scoring function using 'make_scorer' \n",
    "f1_scorer = make_scorer(f1_score,pos_label=\"yes\")\n",
    "\n",
    "# TODO: Perform grid search on the classifier using the f1_scorer as the scoring method\n",
    "grid_obj = grid_search.GridSearchCV(clf0,parameters0, scoring=f1_scorer, n_jobs=-1) \n",
    "\n",
    "# TODO: Fit the grid search object to the training data and find the optimal parameters\n",
    "grid_obj.fit(X_train_300,y_train_300)\n",
    "\n",
    "# Get the estimator\n",
    "clf0f = grid_obj.best_estimator_\n",
    "\n",
    "X_train, y_train, X_test, y_test=X_train_300,y_train_300,X_test_95,y_test_95\n",
    "\n",
    "# Report the final F1 score for training and testing after parameter tuning\n",
    "print \"best parameters\", grid_obj.best_params_\n",
    "#print \"Tuned model has a training F1 score of {:.4f}.\".format(predict_labels(clf, X_train, y_train))\n",
    "print \"Tuned model has a training F1 score of {:.4f}.\",predict_labels(clf0f, X_train, y_train)\n",
    "print \"Tuned model has a testing F1 score of {:.4f}.\", predict_labels(clf0f, X_test, y_test)"
   ]
  },
  {
   "cell_type": "markdown",
   "metadata": {},
   "source": [
    "### SGD Grid Search"
   ]
  },
  {
   "cell_type": "code",
   "execution_count": 19,
   "metadata": {
    "collapsed": false,
    "scrolled": true
   },
   "outputs": [
    {
     "name": "stdout",
     "output_type": "stream",
     "text": [
      "best parameters {'penalty': 'l1', 'loss': 'perceptron'}\n",
      "Tuned model has a training F1 score of {:.4f}. Made predictions in 0.0004 seconds.\n",
      "(0.7142857142857143, 0.0003921985626220703)\n",
      "Tuned model has a testing F1 score of {:.4f}. Made predictions in 0.0001 seconds.\n",
      "(0.65486725663716827, 0.00013303756713867188)\n"
     ]
    }
   ],
   "source": [
    "# TODO: Import 'GridSearchCV' and 'make_scorer'\n",
    "\n",
    "from sklearn import grid_search\n",
    "from sklearn.metrics import make_scorer\n",
    "\n",
    "# TODO: Create the parameters list you wish to tune\n",
    "\n",
    "#parameters = {'C': np.arange(1,1.5,0.01), 'gamma': np.arange(0, 0.1, 0.01),'kernel':(\"rbf\",\"linear\", \"sigmoid\")}\n",
    "#parameters = {'C': np.arange(1,1.5,0.01), 'penalty': (\"l1\",\"l2\")}\n",
    "parameters2 = {'loss': (\"hinge\", \"log\", \"modified_huber\", \"squared_hinge\", \"perceptron\") , 'penalty': (\"l1\",\"l2\")}\n",
    "\n",
    "# TODO: Initialize the classifier\n",
    "\n",
    "#clf = SVC(random_state=rstate)\n",
    "#clf=LogisticRegression(random_state=rstate, n_jobs=-1)\n",
    "clf2=SGDClassifier(random_state=rstate)\n",
    "\n",
    "\n",
    "# TODO: Make an f1 scoring function using 'make_scorer' \n",
    "f1_scorer = make_scorer(f1_score,pos_label=\"yes\")\n",
    "\n",
    "# TODO: Perform grid search on the classifier using the f1_scorer as the scoring method\n",
    "grid_obj = grid_search.GridSearchCV(clf2,parameters2, scoring=f1_scorer, n_jobs=-1) \n",
    "\n",
    "# TODO: Fit the grid search object to the training data and find the optimal parameters\n",
    "grid_obj.fit(X_train_300,y_train_300)\n",
    "\n",
    "# Get the estimator\n",
    "clf2f = grid_obj.best_estimator_\n",
    "\n",
    "X_train, y_train, X_test, y_test=X_train_300,y_train_300,X_test_95,y_test_95\n",
    "\n",
    "# Report the final F1 score for training and testing after parameter tuning\n",
    "print \"best parameters\", grid_obj.best_params_\n",
    "#print \"Tuned model has a training F1 score of {:.4f}.\".format(predict_labels(clf, X_train, y_train))\n",
    "print \"Tuned model has a training F1 score of {:.4f}.\",predict_labels(clf2f, X_train, y_train)\n",
    "print \"Tuned model has a testing F1 score of {:.4f}.\", predict_labels(clf2f, X_test, y_test)"
   ]
  },
  {
   "cell_type": "markdown",
   "metadata": {},
   "source": [
    "LR outperforms SVC after Grid Search. Most likely the result of not quite using the same parameters in the grid parameter search. The same would apply to SGD."
   ]
  },
  {
   "cell_type": "markdown",
   "metadata": {},
   "source": [
    "### Question 5 - Final F<sub>1</sub> Score\n",
    "*What is the final model's F<sub>1</sub> score for training and testing? How does that score compare to the untuned model?*"
   ]
  },
  {
   "cell_type": "markdown",
   "metadata": {},
   "source": [
    "**Answer: **\n",
    "\n",
    "\n",
    "The training F1 score is 0.834 and testing F1 score is 0.830. The score does not improve after tuning. The training score mirrors the testing score, indicating the model is actually learning the right patterns from the training set \n",
    "\n",
    "It can be seen that the tuning of the model usually (not always) has a smaller impact on the accuracy than feature engineering or model selection. GridSearch should be continuosly used to fine tune he model as the features and model selection evolve."
   ]
  },
  {
   "cell_type": "markdown",
   "metadata": {},
   "source": [
    "> **Note**: Once you have completed all of the code implementations and successfully answered each question above, you may finalize your work by exporting the iPython Notebook as an HTML document. You can do this by using the menu above and navigating to  \n",
    "**File -> Download as -> HTML (.html)**. Include the finished document along with this notebook as your submission."
   ]
  }
 ],
 "metadata": {
  "kernelspec": {
   "display_name": "Python [Root]",
   "language": "python",
   "name": "Python [Root]"
  },
  "language_info": {
   "codemirror_mode": {
    "name": "ipython",
    "version": 2
   },
   "file_extension": ".py",
   "mimetype": "text/x-python",
   "name": "python",
   "nbconvert_exporter": "python",
   "pygments_lexer": "ipython2",
   "version": "2.7.12"
  }
 },
 "nbformat": 4,
 "nbformat_minor": 0
}
